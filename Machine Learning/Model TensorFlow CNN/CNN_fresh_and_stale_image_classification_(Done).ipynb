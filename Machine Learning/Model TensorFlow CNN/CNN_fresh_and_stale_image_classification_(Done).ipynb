{
  "cells": [
    {
      "cell_type": "code",
      "execution_count": 1,
      "metadata": {
        "id": "dzv45SiveHe1"
      },
      "outputs": [],
      "source": [
        "# Import library that needed for colab\n",
        "import os\n",
        "import cv2\n",
        "import zipfile\n",
        "import pandas as pd\n",
        "import matplotlib.image as mpimg\n",
        "import matplotlib.pyplot as plt\n",
        "\n",
        "from google.colab import drive\n",
        "\n",
        "import random\n",
        "from shutil import copyfile\n",
        "\n",
        "import numpy as np\n",
        "from keras.preprocessing import image\n",
        "from google.colab import files\n",
        "\n",
        "from sklearn.preprocessing import LabelEncoder\n",
        "from sklearn.model_selection import train_test_split\n",
        "\n",
        "\n",
        "import tensorflow as tf\n",
        "from tensorflow.keras.optimizers import Adam\n",
        "from tensorflow.keras import datasets, layers, models\n",
        "from tensorflow.keras.preprocessing.image import ImageDataGenerator\n",
        "from tensorflow.keras.models import Sequential\n",
        "from tensorflow.keras.layers import Conv2D, MaxPooling2D, Flatten, Dense"
      ]
    },
    {
      "cell_type": "code",
      "execution_count": 2,
      "metadata": {
        "id": "14zOGC_7f7xS"
      },
      "outputs": [],
      "source": [
        "# Set Permission for kaggle\n",
        "!chmod 600 /content/kaggle.json"
      ]
    },
    {
      "cell_type": "code",
      "execution_count": 3,
      "metadata": {
        "colab": {
          "base_uri": "https://localhost:8080/"
        },
        "id": "B2RCOxGpf_4g",
        "outputId": "b36f7573-3d3f-4a8f-c171-a53962c19b71"
      },
      "outputs": [
        {
          "output_type": "stream",
          "name": "stdout",
          "text": [
            "Downloading fresh-and-stale-images-of-fruits-and-vegetables.zip to /content\n",
            " 99% 1.40G/1.41G [00:08<00:00, 195MB/s]\n",
            "100% 1.41G/1.41G [00:09<00:00, 168MB/s]\n"
          ]
        }
      ],
      "source": [
        "# Downloading the datasets using kaggle API\n",
        "\n",
        "! KAGGLE_CONFIG_DIR=/content/ kaggle datasets download -d raghavrpotdar/fresh-and-stale-images-of-fruits-and-vegetables\n",
        "\n",
        "# Dataset : https://www.kaggle.com/datasets/raghavrpotdar/fresh-and-stale-images-of-fruits-and-vegetables"
      ]
    },
    {
      "cell_type": "code",
      "execution_count": 4,
      "metadata": {
        "id": "gCLRsLKQgIYH"
      },
      "outputs": [],
      "source": [
        "zip_file = zipfile.ZipFile('/content/fresh-and-stale-images-of-fruits-and-vegetables.zip')\n",
        "zip_file.extractall('/tmp/bahan/')"
      ]
    },
    {
      "cell_type": "code",
      "execution_count": 5,
      "metadata": {
        "colab": {
          "base_uri": "https://localhost:8080/"
        },
        "id": "sxfSN9Y7gXpQ",
        "outputId": "07a6a941-0147-426d-fc12-52e468fc6d89"
      },
      "outputs": [
        {
          "output_type": "stream",
          "name": "stdout",
          "text": [
            "fresh_apple\t    fresh_orange     stale_banana\t stale_tomato\n",
            "fresh_banana\t    fresh_tomato     stale_bitter_gourd\n",
            "fresh_bitter_gourd  ImageLabels.txt  stale_capsicum\n",
            "fresh_capsicum\t    stale_apple      stale_orange\n"
          ]
        }
      ],
      "source": [
        "!ls \"/tmp/bahan/\""
      ]
    },
    {
      "cell_type": "code",
      "execution_count": null,
      "metadata": {
        "id": "sXyqx14Egpyf"
      },
      "outputs": [],
      "source": [
        "#drive.mount('/content/drive')"
      ]
    },
    {
      "cell_type": "code",
      "execution_count": null,
      "metadata": {
        "id": "Yj8Xq-06g0EK"
      },
      "outputs": [],
      "source": [
        "# Salin dataset ke google drive\n",
        "#!cp -av \"/tmp/train\" \"/content/drive/My Drive/Colab Notebooks/dataset\""
      ]
    },
    {
      "cell_type": "code",
      "execution_count": null,
      "metadata": {
        "id": "zYyUa2-Ng3V4"
      },
      "outputs": [],
      "source": [
        "#!ls '/content/drive/My Drive/Colab Notebooks/Latihan'"
      ]
    },
    {
      "cell_type": "code",
      "execution_count": 6,
      "metadata": {
        "id": "eyJVbToYr-jq"
      },
      "outputs": [],
      "source": [
        "os.mkdir('/tmp/train/')\n",
        "os.mkdir('/tmp/train/fresh_apple')\n",
        "os.mkdir('/tmp/train/fresh_banana')\n",
        "os.mkdir('/tmp/train/fresh_bitter_gourd')\n",
        "os.mkdir('/tmp/train/fresh_capsicum')\n",
        "os.mkdir('/tmp/train/fresh_orange')\n",
        "os.mkdir('/tmp/train/fresh_tomato')\n",
        "os.mkdir('/tmp/train/stale_apple')\n",
        "os.mkdir('/tmp/train/stale_banana')\n",
        "os.mkdir('/tmp/train/stale_bitter_gourd')\n",
        "os.mkdir('/tmp/train/stale_capsicum')\n",
        "os.mkdir('/tmp/train/stale_orange')\n",
        "os.mkdir('/tmp/train/stale_tomato')\n",
        "os.mkdir('/tmp/validasi/')\n",
        "os.mkdir('/tmp/validasi/fresh_apple')\n",
        "os.mkdir('/tmp/validasi/fresh_banana')\n",
        "os.mkdir('/tmp/validasi/fresh_bitter_gourd')\n",
        "os.mkdir('/tmp/validasi/fresh_capsicum')\n",
        "os.mkdir('/tmp/validasi/fresh_orange')\n",
        "os.mkdir('/tmp/validasi/fresh_tomato')\n",
        "os.mkdir('/tmp/validasi/stale_apple')\n",
        "os.mkdir('/tmp/validasi/stale_banana')\n",
        "os.mkdir('/tmp/validasi/stale_bitter_gourd')\n",
        "os.mkdir('/tmp/validasi/stale_capsicum')\n",
        "os.mkdir('/tmp/validasi/stale_orange')\n",
        "os.mkdir('/tmp/validasi/stale_tomato')\n"
      ]
    },
    {
      "cell_type": "code",
      "execution_count": 7,
      "metadata": {
        "id": "I5raxTh7ha5Y"
      },
      "outputs": [],
      "source": [
        "#base_dir = '/content/drive/My Drive/Colab Notebooks/Latihan'\n",
        "base_dir = '/tmp/'\n",
        "bahan_dir = os.path.join(base_dir, 'bahan/')\n",
        "train_dir = os.path.join(base_dir, 'train/')\n",
        "validation_dir = os.path.join(base_dir, 'validasi/')"
      ]
    },
    {
      "cell_type": "code",
      "execution_count": 8,
      "metadata": {
        "colab": {
          "base_uri": "https://localhost:8080/"
        },
        "id": "NsCbr3gIhlRR",
        "outputId": "8044162a-45d4-40bf-be66-3457285e241f"
      },
      "outputs": [
        {
          "output_type": "stream",
          "name": "stdout",
          "text": [
            "Jumplah gambar fresh  apple :  1693\n",
            "Jumplah gambar stale  apple :  2342\n",
            "Jumplah gambar fresh  banana :  1581\n",
            "Jumplah gambar stale  banana :  1467\n",
            "Jumplah gambar fresh  bitter gourd :  327\n",
            "Jumplah gambar stale  bitter gourd :  357\n",
            "Jumplah gambar fresh  capsicum :  990\n",
            "Jumplah gambar stale  capsicum :  901\n",
            "Jumplah gambar fresh  orange :  1466\n",
            "Jumplah gambar stale  orange :  1595\n",
            "Jumplah gambar fresh  tomato :  981\n",
            "Jumplah gambar stale  tomato :  982\n"
          ]
        }
      ],
      "source": [
        "# Directory with our bahan apple pictures\n",
        "bahan_fresh_apple_dir = os.path.join(bahan_dir, 'fresh_apple/')\n",
        "bahan_stale_apple_dir = os.path.join(bahan_dir, 'stale_apple/')\n",
        "\n",
        "# Directory with our bahan banana pictures\n",
        "bahan_fresh_banana_dir = os.path.join(bahan_dir, 'fresh_banana/')\n",
        "bahan_stale_banana_dir = os.path.join(bahan_dir, 'stale_banana/')\n",
        "\n",
        "# Directory with our bahan bitter gourd pictures\n",
        "bahan_fresh_bitter_gourd_dir = os.path.join(bahan_dir, 'fresh_bitter_gourd/')\n",
        "bahan_stale_bitter_gourd_dir = os.path.join(bahan_dir, 'stale_bitter_gourd/')\n",
        "\n",
        "# Directory with our bahan capsicum pictures\n",
        "bahan_fresh_capsicum_dir = os.path.join(bahan_dir, 'fresh_capsicum/')\n",
        "bahan_stale_capsicum_dir = os.path.join(bahan_dir, 'stale_capsicum/')\n",
        "\n",
        "# Directory with our bahan orage pictures\n",
        "bahan_fresh_orange_dir = os.path.join(bahan_dir, 'fresh_orange/')\n",
        "bahan_stale_orange_dir = os.path.join(bahan_dir, 'stale_orange/')\n",
        "\n",
        "# Directory with our bahan tomato pictures\n",
        "bahan_fresh_tomato_dir = os.path.join(bahan_dir, 'fresh_tomato/')\n",
        "bahan_stale_tomato_dir = os.path.join(bahan_dir, 'stale_tomato/')\n",
        "\n",
        "# melihat jumplah data train pada setiap folder\n",
        "print(\"Jumplah gambar fresh  apple : \", len(os.listdir(bahan_fresh_apple_dir)))\n",
        "print(\"Jumplah gambar stale  apple : \", len(os.listdir(bahan_stale_apple_dir)))\n",
        "\n",
        "print(\"Jumplah gambar fresh  banana : \", len(os.listdir(bahan_fresh_banana_dir)))\n",
        "print(\"Jumplah gambar stale  banana : \", len(os.listdir(bahan_stale_banana_dir)))\n",
        "\n",
        "print(\"Jumplah gambar fresh  bitter gourd : \", len(os.listdir(bahan_fresh_bitter_gourd_dir)))\n",
        "print(\"Jumplah gambar stale  bitter gourd : \", len(os.listdir(bahan_stale_bitter_gourd_dir)))\n",
        "\n",
        "print(\"Jumplah gambar fresh  capsicum : \", len(os.listdir(bahan_fresh_capsicum_dir)))\n",
        "print(\"Jumplah gambar stale  capsicum : \", len(os.listdir(bahan_stale_capsicum_dir)))\n",
        "\n",
        "print(\"Jumplah gambar fresh  orange : \", len(os.listdir(bahan_fresh_orange_dir)))\n",
        "print(\"Jumplah gambar stale  orange : \", len(os.listdir(bahan_stale_orange_dir)))\n",
        "\n",
        "print(\"Jumplah gambar fresh  tomato : \", len(os.listdir(bahan_fresh_tomato_dir)))\n",
        "print(\"Jumplah gambar stale  tomato : \", len(os.listdir(bahan_stale_tomato_dir)))"
      ]
    },
    {
      "cell_type": "code",
      "execution_count": 9,
      "metadata": {
        "id": "mkUElrWTjJy4"
      },
      "outputs": [],
      "source": [
        "# Directory with our training apple pictures\n",
        "train_fresh_apple_dir = os.path.join(train_dir, 'fresh_apple/')\n",
        "train_stale_apple_dir = os.path.join(train_dir, 'stale_apple/')\n",
        "\n",
        "# Directory with our training banana pictures\n",
        "train_fresh_banana_dir = os.path.join(train_dir, 'fresh_banana/')\n",
        "train_stale_banana_dir = os.path.join(train_dir, 'stale_banana/')\n",
        "\n",
        "# Directory with our training bitter gourd pictures\n",
        "train_fresh_bitter_gourd_dir = os.path.join(train_dir, 'fresh_bitter_gourd/')\n",
        "train_stale_bitter_gourd_dir = os.path.join(train_dir, 'stale_bitter_gourd/')\n",
        "\n",
        "# Directory with our training capsicum pictures\n",
        "train_fresh_capsicum_dir = os.path.join(train_dir, 'fresh_capsicum/')\n",
        "train_stale_capsicum_dir = os.path.join(train_dir, 'stale_capsicum/')\n",
        "\n",
        "# Directory with our training orage pictures\n",
        "train_fresh_orange_dir = os.path.join(train_dir, 'fresh_orange/')\n",
        "train_stale_orange_dir = os.path.join(train_dir, 'stale_orange/')\n",
        "\n",
        "# Directory with our training tomato pictures\n",
        "train_fresh_tomato_dir = os.path.join(train_dir, 'fresh_tomato/')\n",
        "train_stale_tomato_dir = os.path.join(train_dir, 'stale_tomato/')\n",
        "\n",
        "\n",
        "# Directory with our validation apple pictures\n",
        "validation_fresh_apple_dir = os.path.join(validation_dir, 'fresh_apple/')\n",
        "validation_stale_apple_dir = os.path.join(validation_dir, 'stale_apple/')\n",
        "\n",
        "# Directory with our validation banana pictures\n",
        "validation_fresh_banana_dir = os.path.join(validation_dir, 'fresh_banana/')\n",
        "validation_stale_banana_dir = os.path.join(validation_dir, 'stale_banana/')\n",
        "\n",
        "# Directory with our validation bitter gourd pictures\n",
        "validation_fresh_bitter_gourd_dir = os.path.join(validation_dir, 'fresh_bitter_gourd/')\n",
        "validation_stale_bitter_gourd_dir = os.path.join(validation_dir, 'stale_bitter_gourd/')\n",
        "\n",
        "# Directory with our validation capsicum pictures\n",
        "validation_fresh_capsicum_dir = os.path.join(validation_dir, 'fresh_capsicum/')\n",
        "validation_stale_capsicum_dir = os.path.join(validation_dir, 'stale_capsicum/')\n",
        "\n",
        "# Directory with our validation orage pictures\n",
        "validation_fresh_orange_dir = os.path.join(validation_dir, 'fresh_orange/')\n",
        "validation_stale_orange_dir = os.path.join(validation_dir, 'stale_orange/')\n",
        "\n",
        "# Directory with our validation tomato pictures\n",
        "validation_fresh_tomato_dir = os.path.join(validation_dir, 'fresh_tomato/')\n",
        "validation_stale_tomato_dir = os.path.join(validation_dir, 'stale_tomato/')\n"
      ]
    },
    {
      "cell_type": "code",
      "execution_count": 10,
      "metadata": {
        "id": "MdXp7MJAkDQB"
      },
      "outputs": [],
      "source": [
        "def train_val_split(source, train, val, train_ratio):\n",
        "  total_size = len(os.listdir(source))\n",
        "  train_size = int(train_ratio * total_size)\n",
        "  val_size = total_size - train_size\n",
        "\n",
        "  randomized = random.sample(os.listdir(source), total_size)\n",
        "  train_files = randomized[0:train_size]\n",
        "  val_files = randomized[train_size:total_size]\n",
        "\n",
        "  for i in train_files:\n",
        "    i_file =  source + i\n",
        "    destination =  train + i\n",
        "    copyfile(i_file, destination)\n",
        "\n",
        "  for i in val_files:\n",
        "    i_file = source + i\n",
        "    destination = val + i\n",
        "    copyfile(i_file, destination)\n",
        "\n",
        "# Jumplah pembagian data training dan testing\n",
        "train_ratio = 0.9\n",
        "\n",
        "# Pembagian Training dan Validasi\n",
        "# Training\n",
        "source_00 = bahan_fresh_apple_dir\n",
        "train_00 = train_fresh_apple_dir\n",
        "validation_00 = validation_fresh_apple_dir\n",
        "train_val_split(source_00, train_00, validation_00, train_ratio)\n",
        "\n",
        "source_01 = bahan_fresh_banana_dir\n",
        "train_01 = train_fresh_banana_dir\n",
        "validation_01 = validation_fresh_banana_dir\n",
        "train_val_split(source_01, train_01, validation_01, train_ratio)\n",
        "\n",
        "source_02 = bahan_fresh_bitter_gourd_dir\n",
        "train_02 = train_fresh_bitter_gourd_dir\n",
        "validation_02 = validation_fresh_bitter_gourd_dir\n",
        "train_val_split(source_02, train_02, validation_02, train_ratio)\n",
        "\n",
        "source_03 = bahan_fresh_capsicum_dir\n",
        "train_03 = train_fresh_capsicum_dir\n",
        "validation_03 = validation_fresh_capsicum_dir\n",
        "train_val_split(source_03, train_03, validation_03, train_ratio)\n",
        "\n",
        "source_04 = bahan_fresh_orange_dir\n",
        "train_04 = train_fresh_orange_dir\n",
        "validation_04 = validation_fresh_orange_dir\n",
        "train_val_split(source_04, train_04, validation_04, train_ratio)\n",
        "\n",
        "source_05 = bahan_fresh_tomato_dir\n",
        "train_05 = train_fresh_tomato_dir\n",
        "validation_05 = validation_fresh_tomato_dir\n",
        "train_val_split(source_05, train_05, validation_05, train_ratio)\n",
        "\n",
        "\n",
        "\n",
        "# Validasi\n",
        "source_06 = bahan_stale_apple_dir\n",
        "train_06 = train_stale_apple_dir\n",
        "validation_06 = validation_stale_apple_dir\n",
        "train_val_split(source_06, train_06, validation_06, train_ratio)\n",
        "\n",
        "source_07 = bahan_stale_banana_dir\n",
        "train_07 = train_stale_banana_dir\n",
        "validation_07 = validation_stale_banana_dir\n",
        "train_val_split(source_07, train_07, validation_07, train_ratio)\n",
        "\n",
        "source_08 = bahan_stale_bitter_gourd_dir\n",
        "train_08 = train_stale_bitter_gourd_dir\n",
        "validation_08 = validation_stale_bitter_gourd_dir\n",
        "train_val_split(source_08, train_08, validation_08, train_ratio)\n",
        "\n",
        "source_09 = bahan_stale_capsicum_dir\n",
        "train_09 = train_stale_capsicum_dir\n",
        "validation_09 = validation_stale_capsicum_dir\n",
        "train_val_split(source_09, train_09, validation_09, train_ratio)\n",
        "\n",
        "source_10 = bahan_stale_orange_dir\n",
        "train_10 = train_stale_orange_dir\n",
        "validation_10 = validation_stale_orange_dir\n",
        "train_val_split(source_10, train_10, validation_10, train_ratio)\n",
        "\n",
        "source_11 = bahan_stale_tomato_dir\n",
        "train_11 = train_stale_tomato_dir\n",
        "validation_11 = validation_stale_tomato_dir\n",
        "train_val_split(source_11, train_11, validation_11, train_ratio)\n"
      ]
    },
    {
      "cell_type": "code",
      "execution_count": 11,
      "metadata": {
        "id": "fbU2Ciy5rsow"
      },
      "outputs": [],
      "source": [
        "train_datagen = ImageDataGenerator(\n",
        "    rescale = 1./255,\n",
        "    rotation_range = 30,\n",
        "    horizontal_flip = True,\n",
        "    shear_range = 0.3,\n",
        "    fill_mode = 'nearest',\n",
        "    width_shift_range = 0.2,\n",
        "    height_shift_range = 0.2,\n",
        "    zoom_range = 0.1\n",
        ")\n",
        "\n",
        "val_datagen = ImageDataGenerator(\n",
        "    rescale = 1./255,\n",
        "    rotation_range = 30,\n",
        "    horizontal_flip = True,\n",
        "    shear_range = 0.3,\n",
        "    fill_mode = 'nearest',\n",
        "    width_shift_range = 0.2,\n",
        "    height_shift_range = 0.2,\n",
        "    zoom_range = 0.1\n",
        ")"
      ]
    },
    {
      "cell_type": "code",
      "execution_count": 12,
      "metadata": {
        "colab": {
          "base_uri": "https://localhost:8080/"
        },
        "id": "Y2JSjyRAtiD6",
        "outputId": "fce69cd2-bd65-49f3-ed16-8bccc18627f3"
      },
      "outputs": [
        {
          "output_type": "stream",
          "name": "stdout",
          "text": [
            "Found 13207 images belonging to 12 classes.\n",
            "Found 1475 images belonging to 12 classes.\n"
          ]
        }
      ],
      "source": [
        "train_generator = train_datagen.flow_from_directory(\n",
        "    train_dir,\n",
        "    target_size = (224, 224),\n",
        "    batch_size = 105,\n",
        "    class_mode = 'categorical'\n",
        ")\n",
        "\n",
        "val_generator = val_datagen.flow_from_directory(\n",
        "    validation_dir,\n",
        "    target_size = (224, 224),\n",
        "    batch_size = 30,\n",
        "    class_mode = 'categorical'\n",
        ")"
      ]
    },
    {
      "cell_type": "code",
      "execution_count": 13,
      "metadata": {
        "id": "59ingLXAuMBT"
      },
      "outputs": [],
      "source": [
        "class myCallback(tf.keras.callbacks.Callback):\n",
        "  def on_epoch_end(self, epoch, logs = {}):\n",
        "    if(logs.get(\"accuracy\") > 0.95):\n",
        "      print(\"\\nAkurasi Mencapai 99%\")\n",
        "      self.model.stop_training = True\n",
        "\n",
        "callbacks = myCallback()"
      ]
    },
    {
      "cell_type": "code",
      "execution_count": 14,
      "metadata": {
        "id": "hgfvBuVTu_y4"
      },
      "outputs": [],
      "source": [
        "# model = tf.keras.models.Sequential([\n",
        "#                                     tf.keras.layers.Conv2D(16, (3,3), activation = 'relu', input_shape = (224,224,3)),\n",
        "#                                     tf.keras.layers.MaxPooling2D(2,2),\n",
        "#                                     tf.keras.layers.Conv2D(32, (3,3), activation = 'relu'),\n",
        "#                                     tf.keras.layers.MaxPooling2D(2,2),\n",
        "#                                     tf.keras.layers.Conv2D(64, (3,3), activation = 'relu'),\n",
        "#                                     tf.keras.layers.MaxPooling2D(2,2),\n",
        "#                                     tf.keras.layers.Flatten(),\n",
        "#                                     tf.keras.layers.Dense(200, activation = 'relu'),\n",
        "#                                     tf.keras.layers.Dropout(0.3, seed=112),\n",
        "#                                     tf.keras.layers.Dense(500, activation = 'relu'),\n",
        "#                                     tf.keras.layers.Dropout(0.5, seed=112),\n",
        "#                                     tf.keras.layers.Dense(12, activation = 'softmax')\n",
        "# ])\n",
        "\n",
        "model = tf.keras.models.Sequential([\n",
        "      # 1. convolution layer\n",
        "      tf.keras.layers.Conv2D(filters = 16, kernel_size = (3,3), activation = \"relu\", input_shape = (224,224,3)),\n",
        "      tf.keras.layers.MaxPool2D(pool_size=(2, 2)),\n",
        "      # 2. convolution layer\n",
        "      tf.keras.layers.Conv2D(filters = 32, kernel_size = (3,3), activation = \"relu\"),\n",
        "      tf.keras.layers.MaxPool2D(pool_size=(3, 3)),\n",
        "      # 3. convolution layer\n",
        "      # tf.keras.layers.Conv2D(filters =64, kernel_size = (3,3), activation = \"relu\"),\n",
        "      # tf.keras.layers.MaxPool2D(pool_size=(2, 2)),\n",
        "      tf.keras.layers.Flatten(),\n",
        "      tf.keras.layers.Dense(units = 128, activation = \"relu\"),\n",
        "      tf.keras.layers.Dense(units = 128, activation = \"relu\"),\n",
        "      tf.keras.layers.Dense(units =12, activation = \"sigmoid\")\n",
        "  ])"
      ]
    },
    {
      "cell_type": "code",
      "execution_count": 15,
      "metadata": {
        "colab": {
          "base_uri": "https://localhost:8080/"
        },
        "id": "uwwbDHPPw_Aa",
        "outputId": "1ccd562c-5968-4b9c-b5b4-fb141ef3ebde"
      },
      "outputs": [
        {
          "output_type": "stream",
          "name": "stdout",
          "text": [
            "Model: \"sequential\"\n",
            "_________________________________________________________________\n",
            " Layer (type)                Output Shape              Param #   \n",
            "=================================================================\n",
            " conv2d (Conv2D)             (None, 222, 222, 16)      448       \n",
            "                                                                 \n",
            " max_pooling2d (MaxPooling2D  (None, 111, 111, 16)     0         \n",
            " )                                                               \n",
            "                                                                 \n",
            " conv2d_1 (Conv2D)           (None, 109, 109, 32)      4640      \n",
            "                                                                 \n",
            " max_pooling2d_1 (MaxPooling  (None, 36, 36, 32)       0         \n",
            " 2D)                                                             \n",
            "                                                                 \n",
            " flatten (Flatten)           (None, 41472)             0         \n",
            "                                                                 \n",
            " dense (Dense)               (None, 128)               5308544   \n",
            "                                                                 \n",
            " dense_1 (Dense)             (None, 128)               16512     \n",
            "                                                                 \n",
            " dense_2 (Dense)             (None, 12)                1548      \n",
            "                                                                 \n",
            "=================================================================\n",
            "Total params: 5,331,692\n",
            "Trainable params: 5,331,692\n",
            "Non-trainable params: 0\n",
            "_________________________________________________________________\n"
          ]
        }
      ],
      "source": [
        "model.summary()"
      ]
    },
    {
      "cell_type": "code",
      "execution_count": 16,
      "metadata": {
        "id": "q25gPLT7x0jK"
      },
      "outputs": [],
      "source": [
        "model.compile(loss = 'categorical_crossentropy',\n",
        "              optimizer = 'Adam',\n",
        "              metrics = ['accuracy'],\n",
        "              )\n",
        "\n"
      ]
    },
    {
      "cell_type": "code",
      "execution_count": 17,
      "metadata": {
        "colab": {
          "base_uri": "https://localhost:8080/"
        },
        "id": "MlQ3Qs8XyGTy",
        "outputId": "1604a550-f043-4a91-b06d-22e106bd7cb1"
      },
      "outputs": [
        {
          "output_type": "stream",
          "name": "stdout",
          "text": [
            "Epoch 1/50\n",
            "10/10 [==============================] - 61s 6s/step - loss: 2.3965 - accuracy: 0.1558 - val_loss: 2.1129 - val_accuracy: 0.3133\n",
            "Epoch 2/50\n",
            "10/10 [==============================] - 59s 6s/step - loss: 1.8872 - accuracy: 0.3743 - val_loss: 1.6306 - val_accuracy: 0.4433\n",
            "Epoch 3/50\n",
            "10/10 [==============================] - 59s 6s/step - loss: 1.5627 - accuracy: 0.4771 - val_loss: 1.3947 - val_accuracy: 0.5267\n",
            "Epoch 4/50\n",
            "10/10 [==============================] - 61s 6s/step - loss: 1.3492 - accuracy: 0.5276 - val_loss: 1.2602 - val_accuracy: 0.5667\n",
            "Epoch 5/50\n",
            "10/10 [==============================] - 59s 6s/step - loss: 1.2166 - accuracy: 0.5810 - val_loss: 1.2007 - val_accuracy: 0.5667\n",
            "Epoch 6/50\n",
            "10/10 [==============================] - 59s 6s/step - loss: 1.0227 - accuracy: 0.6371 - val_loss: 0.9744 - val_accuracy: 0.6900\n",
            "Epoch 7/50\n",
            "10/10 [==============================] - 59s 6s/step - loss: 0.9708 - accuracy: 0.6581 - val_loss: 1.0392 - val_accuracy: 0.6100\n",
            "Epoch 8/50\n",
            "10/10 [==============================] - 58s 6s/step - loss: 0.8731 - accuracy: 0.6914 - val_loss: 0.9431 - val_accuracy: 0.6633\n",
            "Epoch 9/50\n",
            "10/10 [==============================] - 60s 6s/step - loss: 0.8940 - accuracy: 0.6876 - val_loss: 0.8099 - val_accuracy: 0.7000\n",
            "Epoch 10/50\n",
            "10/10 [==============================] - 59s 6s/step - loss: 0.8499 - accuracy: 0.6952 - val_loss: 0.8306 - val_accuracy: 0.7067\n",
            "Epoch 11/50\n",
            "10/10 [==============================] - 60s 6s/step - loss: 0.7440 - accuracy: 0.7362 - val_loss: 0.7109 - val_accuracy: 0.7667\n",
            "Epoch 12/50\n",
            "10/10 [==============================] - 59s 6s/step - loss: 0.7628 - accuracy: 0.7371 - val_loss: 0.8253 - val_accuracy: 0.6800\n",
            "Epoch 13/50\n",
            "10/10 [==============================] - 62s 6s/step - loss: 0.7586 - accuracy: 0.7219 - val_loss: 0.7156 - val_accuracy: 0.7500\n",
            "Epoch 14/50\n",
            "10/10 [==============================] - 59s 6s/step - loss: 0.6980 - accuracy: 0.7362 - val_loss: 0.8176 - val_accuracy: 0.7033\n",
            "Epoch 15/50\n",
            "10/10 [==============================] - 59s 6s/step - loss: 0.7130 - accuracy: 0.7476 - val_loss: 0.5928 - val_accuracy: 0.7833\n",
            "Epoch 16/50\n",
            "10/10 [==============================] - 59s 6s/step - loss: 0.6734 - accuracy: 0.7619 - val_loss: 0.6023 - val_accuracy: 0.7800\n",
            "Epoch 17/50\n",
            "10/10 [==============================] - 60s 6s/step - loss: 0.6311 - accuracy: 0.7790 - val_loss: 0.6455 - val_accuracy: 0.7833\n",
            "Epoch 18/50\n",
            "10/10 [==============================] - 59s 6s/step - loss: 0.5667 - accuracy: 0.8048 - val_loss: 0.5694 - val_accuracy: 0.7967\n",
            "Epoch 19/50\n",
            "10/10 [==============================] - 59s 6s/step - loss: 0.6554 - accuracy: 0.7743 - val_loss: 0.5704 - val_accuracy: 0.8233\n",
            "Epoch 20/50\n",
            "10/10 [==============================] - 59s 6s/step - loss: 0.5641 - accuracy: 0.7971 - val_loss: 0.4905 - val_accuracy: 0.8500\n",
            "Epoch 21/50\n",
            "10/10 [==============================] - 59s 6s/step - loss: 0.5479 - accuracy: 0.8067 - val_loss: 0.5845 - val_accuracy: 0.7700\n",
            "Epoch 22/50\n",
            "10/10 [==============================] - 60s 6s/step - loss: 0.5199 - accuracy: 0.8057 - val_loss: 0.5495 - val_accuracy: 0.8000\n",
            "Epoch 23/50\n",
            "10/10 [==============================] - 59s 6s/step - loss: 0.5009 - accuracy: 0.8095 - val_loss: 0.4870 - val_accuracy: 0.8233\n",
            "Epoch 24/50\n",
            "10/10 [==============================] - 59s 6s/step - loss: 0.4817 - accuracy: 0.8105 - val_loss: 0.4333 - val_accuracy: 0.8533\n",
            "Epoch 25/50\n",
            "10/10 [==============================] - 59s 6s/step - loss: 0.4715 - accuracy: 0.8343 - val_loss: 0.4739 - val_accuracy: 0.8167\n",
            "Epoch 26/50\n",
            "10/10 [==============================] - 60s 6s/step - loss: 0.4841 - accuracy: 0.8248 - val_loss: 0.5364 - val_accuracy: 0.8000\n",
            "Epoch 27/50\n",
            "10/10 [==============================] - 59s 6s/step - loss: 0.4617 - accuracy: 0.8286 - val_loss: 0.4295 - val_accuracy: 0.8433\n",
            "Epoch 28/50\n",
            "10/10 [==============================] - 59s 6s/step - loss: 0.4411 - accuracy: 0.8324 - val_loss: 0.4378 - val_accuracy: 0.8333\n",
            "Epoch 29/50\n",
            "10/10 [==============================] - 58s 6s/step - loss: 0.5039 - accuracy: 0.8130 - val_loss: 0.4159 - val_accuracy: 0.8467\n",
            "Epoch 30/50\n",
            "10/10 [==============================] - 60s 6s/step - loss: 0.4686 - accuracy: 0.8381 - val_loss: 0.4350 - val_accuracy: 0.8367\n",
            "Epoch 31/50\n",
            "10/10 [==============================] - 59s 6s/step - loss: 0.4701 - accuracy: 0.8219 - val_loss: 0.4397 - val_accuracy: 0.8233\n",
            "Epoch 32/50\n",
            "10/10 [==============================] - 59s 6s/step - loss: 0.4782 - accuracy: 0.8200 - val_loss: 0.4583 - val_accuracy: 0.8267\n",
            "Epoch 33/50\n",
            "10/10 [==============================] - 58s 6s/step - loss: 0.4240 - accuracy: 0.8617 - val_loss: 0.3924 - val_accuracy: 0.8367\n",
            "Epoch 34/50\n",
            "10/10 [==============================] - 59s 6s/step - loss: 0.4235 - accuracy: 0.8476 - val_loss: 0.4093 - val_accuracy: 0.8400\n",
            "Epoch 35/50\n",
            "10/10 [==============================] - 60s 6s/step - loss: 0.4014 - accuracy: 0.8429 - val_loss: 0.3809 - val_accuracy: 0.8433\n",
            "Epoch 36/50\n",
            "10/10 [==============================] - 59s 6s/step - loss: 0.3810 - accuracy: 0.8552 - val_loss: 0.4259 - val_accuracy: 0.8533\n",
            "Epoch 37/50\n",
            "10/10 [==============================] - 59s 6s/step - loss: 0.4006 - accuracy: 0.8514 - val_loss: 0.4324 - val_accuracy: 0.8533\n",
            "Epoch 38/50\n",
            "10/10 [==============================] - 59s 6s/step - loss: 0.3965 - accuracy: 0.8495 - val_loss: 0.4816 - val_accuracy: 0.8267\n",
            "Epoch 39/50\n",
            "10/10 [==============================] - 59s 6s/step - loss: 0.3872 - accuracy: 0.8571 - val_loss: 0.3267 - val_accuracy: 0.8667\n",
            "Epoch 40/50\n",
            "10/10 [==============================] - 59s 6s/step - loss: 0.4009 - accuracy: 0.8457 - val_loss: 0.3597 - val_accuracy: 0.8700\n",
            "Epoch 41/50\n",
            "10/10 [==============================] - 59s 6s/step - loss: 0.3903 - accuracy: 0.8667 - val_loss: 0.3747 - val_accuracy: 0.8667\n",
            "Epoch 42/50\n",
            "10/10 [==============================] - 59s 6s/step - loss: 0.3289 - accuracy: 0.8829 - val_loss: 0.3850 - val_accuracy: 0.8667\n",
            "Epoch 43/50\n",
            "10/10 [==============================] - 59s 6s/step - loss: 0.3488 - accuracy: 0.8571 - val_loss: 0.5183 - val_accuracy: 0.8200\n",
            "Epoch 44/50\n",
            "10/10 [==============================] - 59s 6s/step - loss: 0.3351 - accuracy: 0.8870 - val_loss: 0.2754 - val_accuracy: 0.9067\n",
            "Epoch 45/50\n",
            "10/10 [==============================] - 59s 6s/step - loss: 0.3068 - accuracy: 0.8810 - val_loss: 0.3069 - val_accuracy: 0.9100\n",
            "Epoch 46/50\n",
            "10/10 [==============================] - 59s 6s/step - loss: 0.3865 - accuracy: 0.8552 - val_loss: 0.3613 - val_accuracy: 0.8600\n",
            "Epoch 47/50\n",
            "10/10 [==============================] - 58s 6s/step - loss: 0.3137 - accuracy: 0.8838 - val_loss: 0.3598 - val_accuracy: 0.8767\n",
            "Epoch 48/50\n",
            "10/10 [==============================] - 58s 6s/step - loss: 0.2646 - accuracy: 0.9000 - val_loss: 0.3279 - val_accuracy: 0.8833\n",
            "Epoch 49/50\n",
            "10/10 [==============================] - 58s 6s/step - loss: 0.3621 - accuracy: 0.8610 - val_loss: 0.2537 - val_accuracy: 0.9233\n",
            "Epoch 50/50\n",
            "10/10 [==============================] - 59s 6s/step - loss: 0.3495 - accuracy: 0.8648 - val_loss: 0.3820 - val_accuracy: 0.8700\n"
          ]
        }
      ],
      "source": [
        "# checkpoint_path = '/tmp/training_1/cp.ckpt'\n",
        "# checkpoint_dir = os.path.dirname(checkpoint_path)\n",
        "\n",
        "# cp_callback = tf.keras.callbacks.ModelCheckpoint(filepath=checkpoint_path,\n",
        "#                                                  save_weights_only = True)\n",
        "\n",
        "history = model.fit(\n",
        "    train_generator,\n",
        "    steps_per_epoch = 10,\n",
        "    epochs = 50,\n",
        "    validation_data = val_generator,\n",
        "    validation_steps = 10,\n",
        "    verbose = 1,\n",
        "    callbacks = [callbacks]\n",
        ")"
      ]
    },
    {
      "cell_type": "code",
      "execution_count": 18,
      "metadata": {
        "colab": {
          "base_uri": "https://localhost:8080/",
          "height": 545
        },
        "id": "9uYxB2yhy4q4",
        "outputId": "543bd41e-0ca5-4a89-9303-3ca09401f380"
      },
      "outputs": [
        {
          "output_type": "display_data",
          "data": {
            "text/plain": [
              "<Figure size 432x288 with 1 Axes>"
            ],
            "image/png": "[encoded data removed]"
          },
          "metadata": {
            "needs_background": "light"
          }
        },
        {
          "output_type": "display_data",
          "data": {
            "text/plain": [
              "<Figure size 432x288 with 1 Axes>"
            ],
            "image/png": "[encoded data removed]"
          },
          "metadata": {
            "needs_background": "light"
          }
        }
      ],
      "source": [
        "%matplotlib inline\n",
        "\n",
        "acc = history.history['accuracy']\n",
        "val_acc = history.history['val_accuracy']\n",
        "loss = history.history['loss']\n",
        "val_loss = history.history['val_loss']\n",
        "\n",
        "epochs = range(len(acc))\n",
        "\n",
        "plt.plot(epochs, acc, 'r', label = 'Training Accuracy')\n",
        "plt.plot(epochs, val_acc, 'b', label = 'Validation Accuracy')\n",
        "plt.title('Training and Validation accuracy')\n",
        "plt.legend(loc= 'best')\n",
        "plt.show()\n",
        "\n",
        "plt.plot(epochs, acc, 'r', label = 'Training Accuracy')\n",
        "plt.plot(epochs, val_acc, 'b', label = 'Validation Accuracy')\n",
        "plt.title('Training and Validation accuracy')\n",
        "plt.legend(loc= 'best')\n",
        "plt.show()\n",
        "\n"
      ]
    },
    {
      "cell_type": "code",
      "execution_count": 19,
      "metadata": {
        "id": "hHJqqhGngQYt",
        "colab": {
          "base_uri": "https://localhost:8080/",
          "height": 17
        },
        "outputId": "8f588d89-914c-4ad0-e370-8b6a67ece277"
      },
      "outputs": [
        {
          "output_type": "display_data",
          "data": {
            "text/plain": [
              "<IPython.core.display.Javascript object>"
            ],
            "application/javascript": [
              "\n",
              "    async function download(id, filename, size) {\n",
              "      if (!google.colab.kernel.accessAllowed) {\n",
              "        return;\n",
              "      }\n",
              "      const div = document.createElement('div');\n",
              "      const label = document.createElement('label');\n",
              "      label.textContent = `Downloading \"${filename}\": `;\n",
              "      div.appendChild(label);\n",
              "      const progress = document.createElement('progress');\n",
              "      progress.max = size;\n",
              "      div.appendChild(progress);\n",
              "      document.body.appendChild(div);\n",
              "\n",
              "      const buffers = [];\n",
              "      let downloaded = 0;\n",
              "\n",
              "      const channel = await google.colab.kernel.comms.open(id);\n",
              "      // Send a message to notify the kernel that we're ready.\n",
              "      channel.send({})\n",
              "\n",
              "      for await (const message of channel.messages) {\n",
              "        // Send a message to notify the kernel that we're ready.\n",
              "        channel.send({})\n",
              "        if (message.buffers) {\n",
              "          for (const buffer of message.buffers) {\n",
              "            buffers.push(buffer);\n",
              "            downloaded += buffer.byteLength;\n",
              "            progress.value = downloaded;\n",
              "          }\n",
              "        }\n",
              "      }\n",
              "      const blob = new Blob(buffers, {type: 'application/binary'});\n",
              "      const a = document.createElement('a');\n",
              "      a.href = window.URL.createObjectURL(blob);\n",
              "      a.download = filename;\n",
              "      div.appendChild(a);\n",
              "      a.click();\n",
              "      div.remove();\n",
              "    }\n",
              "  "
            ]
          },
          "metadata": {}
        },
        {
          "output_type": "display_data",
          "data": {
            "text/plain": [
              "<IPython.core.display.Javascript object>"
            ],
            "application/javascript": [
              "download(\"download_cf3eb163-fca4-46cf-b4c4-6ab15d1d00a2\", \"history.pkl\", 1888)"
            ]
          },
          "metadata": {}
        }
      ],
      "source": [
        "# Download history model\n",
        "\n",
        "def download_history():\n",
        "  import pickle\n",
        "  from google.colab import files\n",
        "\n",
        "  with open('history.pkl', 'wb') as f:\n",
        "    pickle.dump(history.history, f)\n",
        "\n",
        "  files.download('history.pkl')\n",
        "\n",
        "download_history()"
      ]
    },
    {
      "cell_type": "code",
      "execution_count": 26,
      "metadata": {
        "colab": {
          "resources": {
            "http://localhost:8080/nbextensions/google.colab/files.js": {
              "data": "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",
              "ok": true,
              "headers": [
                [
                  "content-type",
                  "application/javascript"
                ]
              ],
              "status": 200,
              "status_text": ""
            }
          },
          "base_uri": "https://localhost:8080/",
          "height": 359
        },
        "id": "tZ_tUAJa8uJU",
        "outputId": "13bb42ee-33b9-4f55-f32f-96d9ec53b4e1"
      },
      "outputs": [
        {
          "output_type": "display_data",
          "data": {
            "text/plain": [
              "<IPython.core.display.HTML object>"
            ],
            "text/html": [
              "\n",
              "     <input type=\"file\" id=\"files-8b17c93f-53e6-45a6-acd5-520c5ba44a4c\" name=\"files[]\" multiple disabled\n",
              "        style=\"border:none\" />\n",
              "     <output id=\"result-8b17c93f-53e6-45a6-acd5-520c5ba44a4c\">\n",
              "      Upload widget is only available when the cell has been executed in the\n",
              "      current browser session. Please rerun this cell to enable.\n",
              "      </output>\n",
              "      <script src=\"/nbextensions/google.colab/files.js\"></script> "
            ]
          },
          "metadata": {}
        },
        {
          "output_type": "stream",
          "name": "stdout",
          "text": [
            "Saving rotated_by_15_Screen Shot 2018-06-12 at 11.26.49 PM.png to rotated_by_15_Screen Shot 2018-06-12 at 11.26.49 PM.png\n",
            "rotated_by_15_Screen Shot 2018-06-12 at 11.26.49 PM.png\n",
            "This Image Belongs to Class stale_orange\n"
          ]
        },
        {
          "output_type": "display_data",
          "data": {
            "text/plain": [
              "<Figure size 432x288 with 1 Axes>"
            ],
            "image/png": "[encoded data removed]"
          },
          "metadata": {
            "needs_background": "light"
          }
        }
      ],
      "source": [
        "# Mencoba Klasifikasi\n",
        "\n",
        "uploaded = files.upload()\n",
        "\n",
        "for fn in uploaded.keys():\n",
        "  # predicting images\n",
        "  path = fn\n",
        "  img = image.load_img(path, target_size = (224, 224))\n",
        "  imgplot = plt.imshow(img)\n",
        "  x = image.img_to_array(img)\n",
        "  x = np.expand_dims(x, axis = 0)\n",
        "\n",
        "  images = np.vstack([x])\n",
        "  classes = model.predict(images, batch_size = 100)\n",
        "\n",
        "  print(fn)\n",
        "\n",
        "  class_list = os.listdir(train_dir)\n",
        "\n",
        "  for j in range(42):\n",
        "    if classes[0][j] == 1. :\n",
        "      print(\"This Image Belongs to Class\", class_list[j-1])\n",
        "      break"
      ]
    },
    {
      "cell_type": "code",
      "source": [
        "# Konversi Model to TFLite\n",
        "converter = tf.lite.TFLiteConverter.from_keras_model(model)\n",
        "tflite_model = converter.convert()\n",
        "\n",
        "with open(\"model.tflite\", 'wb') as f:\n",
        "  f.write(tflite_model)"
      ],
      "metadata": {
        "colab": {
          "base_uri": "https://localhost:8080/"
        },
        "id": "v9ODGXkBZQdS",
        "outputId": "6d54e4aa-7e3c-459d-99ed-402392bb6c9e"
      },
      "execution_count": 28,
      "outputs": [
        {
          "output_type": "stream",
          "name": "stdout",
          "text": [
            "INFO:tensorflow:Assets written to: /tmp/tmpb9_vdw85/assets\n"
          ]
        },
        {
          "output_type": "stream",
          "name": "stderr",
          "text": [
            "WARNING:absl:Buffer deduplication procedure will be skipped when flatbuffer library is not properly loaded\n"
          ]
        }
      ]
    }
  ],
  "metadata": {
    "colab": {
      "collapsed_sections": [],
      "name": "CNN fresh and stale image classification (Done).ipynb",
      "provenance": []
    },
    "kernelspec": {
      "display_name": "Python 3",
      "name": "python3"
    },
    "language_info": {
      "name": "python"
    }
  },
  "nbformat": 4,
  "nbformat_minor": 0
}